{
 "cells": [
  {
   "cell_type": "code",
   "execution_count": 1,
   "metadata": {},
   "outputs": [
    {
     "name": "stdout",
     "output_type": "stream",
     "text": [
      "200\n",
      "utf-8\n"
     ]
    },
    {
     "data": {
      "text/plain": [
       "<function print>"
      ]
     },
     "execution_count": 1,
     "metadata": {},
     "output_type": "execute_result"
    }
   ],
   "source": [
    "import requests\n",
    "response=requests.get('https://www.codingninjas.com/courses')\n",
    "print(response.status_code)\n",
    "print(response.encoding)\n",
    "print"
   ]
  },
  {
   "cell_type": "code",
   "execution_count": 2,
   "metadata": {},
   "outputs": [
    {
     "name": "stdout",
     "output_type": "stream",
     "text": [
      "<Response [404]>\n"
     ]
    }
   ],
   "source": [
    "import requests\n",
    "response=requests.get('http://api.open-notify.org/iss-pass')\n",
    "print(response)"
   ]
  },
  {
   "cell_type": "code",
   "execution_count": 7,
   "metadata": {},
   "outputs": [
    {
     "name": "stdout",
     "output_type": "stream",
     "text": [
      "application/json\n"
     ]
    }
   ],
   "source": [
    "import requests\n",
    "response=requests.get('https://codingninjas.in/api/v3/events')\n",
    "print(response.headers['content-type'])"
   ]
  },
  {
   "cell_type": "code",
   "execution_count": 18,
   "metadata": {},
   "outputs": [
    {
     "ename": "SyntaxError",
     "evalue": "unexpected EOF while parsing (<ipython-input-18-c9e1886fca01>, line 9)",
     "output_type": "error",
     "traceback": [
      "\u001b[1;36m  File \u001b[1;32m\"<ipython-input-18-c9e1886fca01>\"\u001b[1;36m, line \u001b[1;32m9\u001b[0m\n\u001b[1;33m    \u001b[0m\n\u001b[1;37m    ^\u001b[0m\n\u001b[1;31mSyntaxError\u001b[0m\u001b[1;31m:\u001b[0m unexpected EOF while parsing\n"
     ]
    }
   ],
   "source": [
    "import requests\n",
    "response=requests.get('https://dog.ceo/api/breeds/list/all')\n",
    "breed=response.json()   #  converting json to python\n",
    "breed1=breed['message'].values()\n",
    "for i in breed1:\n",
    "    if i!=[]:\n",
    "        for j in i:\n",
    "#            print(j)\n",
    "        "
   ]
  },
  {
   "cell_type": "code",
   "execution_count": 21,
   "metadata": {},
   "outputs": [
    {
     "name": "stdout",
     "output_type": "stream",
     "text": [
      "afghan\n",
      "basset\n",
      "blood\n",
      "english\n",
      "ibizan\n",
      "plott\n",
      "walker\n"
     ]
    }
   ],
   "source": [
    "import requests\n",
    "response=requests.get('https://dog.ceo/api/breeds/list/all')\n",
    "breed=response.json()\n",
    "sub_breed=breed['message']['hound']\n",
    "for i in sub_breed:\n",
    "    print(i)\n"
   ]
  },
  {
   "cell_type": "code",
   "execution_count": 25,
   "metadata": {},
   "outputs": [
    {
     "name": "stdout",
     "output_type": "stream",
     "text": [
      "3\n"
     ]
    }
   ],
   "source": [
    "import requests\n",
    "response=requests.get('https://dog.ceo/api/breeds/list/all/')\n",
    "breed=response.json()\n",
    "sub_breed=breed['message']['poodle']\n",
    "print(len(sub_breed))"
   ]
  },
  {
   "cell_type": "code",
   "execution_count": 3,
   "metadata": {},
   "outputs": [
    {
     "name": "stdout",
     "output_type": "stream",
     "text": [
      "Aptitude Preparation Course\n",
      "Android Development with Kotlin\n",
      "Data Science & Machine Learning Complete\n",
      "Advanced  Front-End Web Development with React\n",
      "Full Stack Web Development\n",
      "Python Foundation with Data Structures\n",
      "C++ Foundation with Data Structures\n",
      "Ninja  Web Developer Career Track - NodeJS\n",
      "Ninja Android Developer Career Track \n",
      "JAVA Foundation with Data Structures\n",
      "Interview Preparation Course\n",
      "Competitive Programming Course\n",
      "Ninja Competitive Programmer Track\n",
      "Ninja Machine Learning Engineer Career Track\n",
      "Machine Learning Course\n",
      "Ninja  Web Developer Career Track - NodeJS & ReactJs\n",
      "Ninja Data Scientist Career Track\n"
     ]
    }
   ],
   "source": [
    "import requests\n",
    "response=requests.get('https://codingninjas.in/api/v3/courses')\n",
    "course=response.json()\n",
    "course=course['data']['courses']\n",
    "for i in range(len(course)):\n",
    "    if course[i]['available_online']==True:\n",
    "        print(course[i]['name'])"
   ]
  },
  {
   "cell_type": "code",
   "execution_count": 18,
   "metadata": {},
   "outputs": [
    {
     "name": "stdout",
     "output_type": "stream",
     "text": [
      " How To Master Android Development with Kotlin\n",
      " Learn the Art of Cracking Interviews for Product Based Companies\n",
      " How to Become a Data Scientist?\n",
      "Coding Career Paths in \"2020\"\n",
      "Webinar on Coding Ninjas Live+ Courses\n",
      "Quarantine Code\n",
      "SPEND THIS LOCKDOWN IN THE MOST PRODUCTIVE WAY\n",
      "Code Knight, NIT-JSR\n",
      "Interview Jumpstart\n",
      "GSoC'20 Webinar\n",
      "CODESPACE, Hackathon-NCU\n",
      "Let Me Code with Sathyabhama University\n",
      "NSC Programming, BVICAM 2020\n",
      "Virtual Placement-Xavier Institute of Engineering\n",
      "Interview Preparation Workshop at Dr. M.G.R Educational and Research Institute, Chennai\n"
     ]
    }
   ],
   "source": [
    "import requests\n",
    "response=requests.get('https://codingninjas.in/api/v3/events')\n",
    "course=response.json()\n",
    "course=course['data']['past_registered_events']\n",
    "for i in range(len(course)):\n",
    "    print(course[i]['name'])\n",
    "        "
   ]
  },
  {
   "cell_type": "code",
   "execution_count": 10,
   "metadata": {},
   "outputs": [
    {
     "name": "stdout",
     "output_type": "stream",
     "text": [
      "Programming Foundation DS & Algo + Machine Learning\n"
     ]
    }
   ],
   "source": [
    "import requests\n",
    "response=requests.get(' https://api.openaq.org/v1/cities/')\n",
    "data=response.json()\n",
    "a=data['data']['courses']\n",
    "for i in range(len(a)):\n",
    "    if a[i]['id']==19:\n",
    "        print(a[i]['title'])"
   ]
  },
  {
   "cell_type": "code",
   "execution_count": 26,
   "metadata": {},
   "outputs": [
    {
     "name": "stdout",
     "output_type": "stream",
     "text": [
      "57\n"
     ]
    }
   ],
   "source": [
    "import requests\n",
    "response=requests.get('https://api.openaq.org/v1/cities/',params={'country':'AU'})\n",
    "a=response.json()\n",
    "a=a['results']\n",
    "city=[]\n",
    "for i in a:\n",
    "    city.append(i['city'])\n",
    "\n",
    "print(len(set(city)))"
   ]
  },
  {
   "cell_type": "code",
   "execution_count": 34,
   "metadata": {},
   "outputs": [
    {
     "name": "stdout",
     "output_type": "stream",
     "text": [
      "Antwerpen\n",
      "Brabant wallon\n",
      "Brussels\n",
      "Brussels-Capital Region\n",
      "Flanders\n"
     ]
    }
   ],
   "source": [
    "import requests\n",
    "response=requests.get('https://api.openaq.org/v1/cities',params={'country':'BE','limit':5})\n",
    "a=response.json()\n",
    "a=a['results']\n",
    "for i in a:\n",
    "    print(i['city'])"
   ]
  },
  {
   "cell_type": "code",
   "execution_count": 42,
   "metadata": {},
   "outputs": [
    {
     "name": "stdout",
     "output_type": "stream",
     "text": [
      "1132447\n"
     ]
    }
   ],
   "source": [
    "import requests\n",
    "response=requests.get('https://www.metaweather.com/api/location/search/',params={'query':'USA'})\n",
    "a=response.json()\n",
    "print(a[0]['woeid'])"
   ]
  },
  {
   "cell_type": "code",
   "execution_count": 5,
   "metadata": {},
   "outputs": [],
   "source": [
    "import requests\n",
    "#response=requests.get('https://holidayapi.com/',params={'key':\"a0c85c3f-a157-483e-b5ce-3e3189cf686c\"})\n",
    "#a=response.json()\n",
    "#print(a)\n"
   ]
  },
  {
   "cell_type": "markdown",
   "metadata": {},
   "source": [
    "Basic Auth"
   ]
  },
  {
   "cell_type": "code",
   "execution_count": 10,
   "metadata": {},
   "outputs": [
    {
     "name": "stdout",
     "output_type": "stream",
     "text": [
      "Apache License 2.0\n"
     ]
    }
   ],
   "source": [
    "import requests\n",
    "from requests.auth import HTTPBasicAuth\n",
    "import json\n",
    "a=requests.get('https://api.github.com/repos/google/go-cloud',auth=('vvss9848@gmail.com','varun@123.singh'))\n",
    "a=a.json()\n",
    "print(a['license']['name'])"
   ]
  },
  {
   "cell_type": "code",
   "execution_count": 23,
   "metadata": {},
   "outputs": [
    {
     "name": "stdout",
     "output_type": "stream",
     "text": [
      "401\n"
     ]
    }
   ],
   "source": [
    "import requests\n",
    "from requests.auth import HTTPBasicAuth\n",
    "response=requests.get('https://api.github.com/user', auth= ('nidhi@codingninjas.in','cnninjas123'))\n",
    "print(response.status_code)"
   ]
  },
  {
   "cell_type": "code",
   "execution_count": 26,
   "metadata": {},
   "outputs": [
    {
     "name": "stdout",
     "output_type": "stream",
     "text": [
      "404\n"
     ]
    }
   ],
   "source": [
    "response=requests.get('https://api.github.com/user/nidhi@codingninjas.in', auth= ('nidhi@codingninjas.in','cnninjas123'))\n",
    "print(response.status_code)"
   ]
  },
  {
   "cell_type": "code",
   "execution_count": null,
   "metadata": {},
   "outputs": [],
   "source": []
  },
  {
   "cell_type": "code",
   "execution_count": null,
   "metadata": {},
   "outputs": [],
   "source": []
  },
  {
   "cell_type": "code",
   "execution_count": null,
   "metadata": {},
   "outputs": [],
   "source": []
  },
  {
   "cell_type": "code",
   "execution_count": 18,
   "metadata": {
    "scrolled": true
   },
   "outputs": [
    {
     "name": "stdout",
     "output_type": "stream",
     "text": [
      "fuzzing\n",
      "security\n",
      "stability\n",
      "vulnerabilities\n"
     ]
    }
   ],
   "source": [
    "import requests\n",
    "from requests.auth import HTTPBasicAuth\n",
    "headers={'Accept':'application/vnd.github.mercy-preview+json'}\n",
    "a=requests.get('http://api.github.com/repos/google/clusterfuzz/topics',headers=headers,auth=('email','password'))\n",
    "a=a.json()\n",
    "for i in a['names']:\n",
    "    print(i)"
   ]
  },
  {
   "cell_type": "code",
   "execution_count": 25,
   "metadata": {},
   "outputs": [
    {
     "name": "stdout",
     "output_type": "stream",
     "text": [
      "Swift\n",
      "HTML\n",
      "Python\n",
      "Ruby\n",
      "Shell\n"
     ]
    }
   ],
   "source": [
    "import requests\n",
    "from requests.auth import HTTPBasicAuth\n",
    "a=requests.get('https://api.github.com/repos/google/science-journal-ios/languages',auth=('email','password'))\n",
    "a=a.json()\n",
    "for i in a:\n",
    "    print(i)"
   ]
  },
  {
   "cell_type": "code",
   "execution_count": 3,
   "metadata": {},
   "outputs": [
    {
     "name": "stdout",
     "output_type": "stream",
     "text": [
      "A Light in the Attic http://books.toscrape.com/catalogue/a-light-in-the-attic_1000/index.html 51.77 22\n",
      "Tipping the Velvet http://books.toscrape.com/catalogue/tipping-the-velvet_999/index.html 53.74 20\n",
      "Soumission http://books.toscrape.com/catalogue/soumission_998/index.html 50.1 20\n",
      "Sharp Objects http://books.toscrape.com/catalogue/sharp-objects_997/index.html 47.82 20\n",
      "Sapiens: A Brief History of Humankind http://books.toscrape.com/catalogue/sapiens-a-brief-history-of-humankind_996/index.html 54.23 20\n",
      "The Requiem Red http://books.toscrape.com/catalogue/the-requiem-red_995/index.html 22.65 19\n",
      "The Dirty Little Secrets of Getting Your Dream Job http://books.toscrape.com/catalogue/the-dirty-little-secrets-of-getting-your-dream-job_994/index.html 33.34 19\n",
      "The Coming Woman: A Novel Based on the Life of the Infamous Feminist, Victoria Woodhull http://books.toscrape.com/catalogue/the-coming-woman-a-novel-based-on-the-life-of-the-infamous-feminist-victoria-woodhull_993/index.html 17.93 19\n",
      "The Boys in the Boat: Nine Americans and Their Epic Quest for Gold at the 1936 Berlin Olympics http://books.toscrape.com/catalogue/the-boys-in-the-boat-nine-americans-and-their-epic-quest-for-gold-at-the-1936-berlin-olympics_992/index.html 22.6 19\n",
      "The Black Maria http://books.toscrape.com/catalogue/the-black-maria_991/index.html 52.15 19\n",
      "Starving Hearts (Triangular Trade Trilogy, #1) http://books.toscrape.com/catalogue/starving-hearts-triangular-trade-trilogy-1_990/index.html 13.99 19\n",
      "Shakespeare's Sonnets http://books.toscrape.com/catalogue/shakespeares-sonnets_989/index.html 20.66 19\n",
      "Set Me Free http://books.toscrape.com/catalogue/set-me-free_988/index.html 17.46 19\n",
      "Scott Pilgrim's Precious Little Life (Scott Pilgrim #1) http://books.toscrape.com/catalogue/scott-pilgrims-precious-little-life-scott-pilgrim-1_987/index.html 52.29 19\n",
      "Rip it Up and Start Again http://books.toscrape.com/catalogue/rip-it-up-and-start-again_986/index.html 35.02 19\n",
      "Our Band Could Be Your Life: Scenes from the American Indie Underground, 1981-1991 http://books.toscrape.com/catalogue/our-band-could-be-your-life-scenes-from-the-american-indie-underground-1981-1991_985/index.html 57.25 19\n",
      "Olio http://books.toscrape.com/catalogue/olio_984/index.html 23.88 19\n",
      "Mesaerion: The Best Science Fiction Stories 1800-1849 http://books.toscrape.com/catalogue/mesaerion-the-best-science-fiction-stories-1800-1849_983/index.html 37.59 19\n",
      "Libertarianism for Beginners http://books.toscrape.com/catalogue/libertarianism-for-beginners_982/index.html 51.33 19\n",
      "It's Only the Himalayas http://books.toscrape.com/catalogue/its-only-the-himalayas_981/index.html 45.17 19\n",
      "In Her Wake http://books.toscrape.com/catalogue/in-her-wake_980/index.html 12.84 19\n",
      "How Music Works http://books.toscrape.com/catalogue/how-music-works_979/index.html 37.32 19\n",
      "Foolproof Preserving: A Guide to Small Batch Jams, Jellies, Pickles, Condiments, and More: A Foolproof Guide to Making Small Batch Jams, Jellies, Pickles, Condiments, and More http://books.toscrape.com/catalogue/foolproof-preserving-a-guide-to-small-batch-jams-jellies-pickles-condiments-and-more-a-foolproof-guide-to-making-small-batch-jams-jellies-pickles-condiments-and-more_978/index.html 30.52 19\n",
      "Chase Me (Paris Nights #2) http://books.toscrape.com/catalogue/chase-me-paris-nights-2_977/index.html 25.27 19\n",
      "Black Dust http://books.toscrape.com/catalogue/black-dust_976/index.html 34.53 19\n",
      "Birdsong: A Story in Pictures http://books.toscrape.com/catalogue/birdsong-a-story-in-pictures_975/index.html 54.64 19\n",
      "America's Cradle of Quarterbacks: Western Pennsylvania's Football Factory from Johnny Unitas to Joe Montana http://books.toscrape.com/catalogue/americas-cradle-of-quarterbacks-western-pennsylvanias-football-factory-from-johnny-unitas-to-joe-montana_974/index.html 22.5 19\n",
      "Aladdin and His Wonderful Lamp http://books.toscrape.com/catalogue/aladdin-and-his-wonderful-lamp_973/index.html 53.13 19\n",
      "Worlds Elsewhere: Journeys Around Shakespeareâs Globe http://books.toscrape.com/catalogue/worlds-elsewhere-journeys-around-shakespeares-globe_972/index.html 40.3 18\n",
      "Wall and Piece http://books.toscrape.com/catalogue/wall-and-piece_971/index.html 44.18 18\n",
      "The Four Agreements: A Practical Guide to Personal Freedom http://books.toscrape.com/catalogue/the-four-agreements-a-practical-guide-to-personal-freedom_970/index.html 17.66 18\n",
      "The Five Love Languages: How to Express Heartfelt Commitment to Your Mate http://books.toscrape.com/catalogue/the-five-love-languages-how-to-express-heartfelt-commitment-to-your-mate_969/index.html 31.05 18\n",
      "The Elephant Tree http://books.toscrape.com/catalogue/the-elephant-tree_968/index.html 23.82 18\n",
      "The Bear and the Piano http://books.toscrape.com/catalogue/the-bear-and-the-piano_967/index.html 36.89 18\n",
      "Sophie's World http://books.toscrape.com/catalogue/sophies-world_966/index.html 15.94 18\n",
      "Penny Maybe http://books.toscrape.com/catalogue/penny-maybe_965/index.html 33.29 18\n",
      "Maude (1883-1993):She Grew Up with the country http://books.toscrape.com/catalogue/maude-1883-1993she-grew-up-with-the-country_964/index.html 18.02 18\n",
      "In a Dark, Dark Wood http://books.toscrape.com/catalogue/in-a-dark-dark-wood_963/index.html 19.63 18\n",
      "Behind Closed Doors http://books.toscrape.com/catalogue/behind-closed-doors_962/index.html 52.22 18\n",
      "You can't bury them all: Poems http://books.toscrape.com/catalogue/you-cant-bury-them-all-poems_961/index.html 33.63 17\n",
      "40\n"
     ]
    }
   ],
   "source": [
    "allPages = ['http://books.toscrape.com/catalogue/page-1.html',\n",
    "            'http://books.toscrape.com/catalogue/page-2.html']\n",
    "base_url='http://books.toscrape.com/catalogue/'\n",
    "url=[]\n",
    "column_names = ['Title', 'Link', 'Price', 'Quantity in Stock']\n",
    "import requests\n",
    "import re\n",
    "from bs4 import BeautifulSoup\n",
    "import pandas as pd\n",
    "\n",
    "title=[]\n",
    "price=[]\n",
    "qty=[]\n",
    "for i in allPages:\n",
    "    book_url=[]\n",
    "    response=requests.get(i)\n",
    "    data=BeautifulSoup(response.text,'html.parser')\n",
    "    a=data.find_all(class_='product_pod')\n",
    "    for i in a:\n",
    "        book_url.append(base_url+i.a['href'])\n",
    "    \n",
    "    for i in book_url:\n",
    "        url.append(i)\n",
    "        res=requests.get(i)\n",
    "        book_data=BeautifulSoup(res.text,'html.parser')\n",
    "        title.append(book_data.h1.string)\n",
    "        price.append(book_data.find(class_='price_color').string)\n",
    "        qty.append(book_data.find(class_='instock availability').contents[-1].strip())\n",
    "        \n",
    "        \n",
    "#print(title)\n",
    "#print(book_url)\n",
    "p=[]\n",
    "for i in price:\n",
    "    p.append(float(re.search('[\\d.]+',i).group()))\n",
    "##print(p)\n",
    "quantity=[]\n",
    "for i in qty:\n",
    "    quantity.append(int(re.search('\\d+',i).group()))\n",
    "##print(quantity)\n",
    "\n",
    "book_details=[]\n",
    "for k in range(len(p)):\n",
    "    book_details.append([title[k],url[k],p[k],quantity[k]])\n",
    "df=pd.DataFrame(book_details,columns=column_names)\n",
    "d=df.copy()\n",
    "for index, row in d.iterrows():\n",
    "    print(row['Title'],row['Link'],row['Price'],row['Quantity in Stock'])\n"
   ]
  },
  {
   "cell_type": "code",
   "execution_count": 4,
   "metadata": {},
   "outputs": [
    {
     "name": "stdout",
     "output_type": "stream",
     "text": [
      "A Light in the Attic http://books.toscrape.com/catalogue/a-light-in-the-attic_1000/index.html 51.77 22\n",
      "Tipping the Velvet http://books.toscrape.com/catalogue/tipping-the-velvet_999/index.html 53.74 20\n",
      "Soumission http://books.toscrape.com/catalogue/soumission_998/index.html 50.1 20\n",
      "Sharp Objects http://books.toscrape.com/catalogue/sharp-objects_997/index.html 47.82 20\n",
      "Sapiens: A Brief History of Humankind http://books.toscrape.com/catalogue/sapiens-a-brief-history-of-humankind_996/index.html 54.23 20\n",
      "The Requiem Red http://books.toscrape.com/catalogue/the-requiem-red_995/index.html 22.65 19\n",
      "The Dirty Little Secrets of Getting Your Dream Job http://books.toscrape.com/catalogue/the-dirty-little-secrets-of-getting-your-dream-job_994/index.html 33.34 19\n",
      "The Coming Woman: A Novel Based on the Life of the Infamous Feminist, Victoria Woodhull http://books.toscrape.com/catalogue/the-coming-woman-a-novel-based-on-the-life-of-the-infamous-feminist-victoria-woodhull_993/index.html 17.93 19\n",
      "The Boys in the Boat: Nine Americans and Their Epic Quest for Gold at the 1936 Berlin Olympics http://books.toscrape.com/catalogue/the-boys-in-the-boat-nine-americans-and-their-epic-quest-for-gold-at-the-1936-berlin-olympics_992/index.html 22.6 19\n",
      "The Black Maria http://books.toscrape.com/catalogue/the-black-maria_991/index.html 52.15 19\n",
      "Starving Hearts (Triangular Trade Trilogy, #1) http://books.toscrape.com/catalogue/starving-hearts-triangular-trade-trilogy-1_990/index.html 13.99 19\n",
      "Shakespeare's Sonnets http://books.toscrape.com/catalogue/shakespeares-sonnets_989/index.html 20.66 19\n",
      "Set Me Free http://books.toscrape.com/catalogue/set-me-free_988/index.html 17.46 19\n",
      "Scott Pilgrim's Precious Little Life (Scott Pilgrim #1) http://books.toscrape.com/catalogue/scott-pilgrims-precious-little-life-scott-pilgrim-1_987/index.html 52.29 19\n",
      "Rip it Up and Start Again http://books.toscrape.com/catalogue/rip-it-up-and-start-again_986/index.html 35.02 19\n",
      "Our Band Could Be Your Life: Scenes from the American Indie Underground, 1981-1991 http://books.toscrape.com/catalogue/our-band-could-be-your-life-scenes-from-the-american-indie-underground-1981-1991_985/index.html 57.25 19\n",
      "Olio http://books.toscrape.com/catalogue/olio_984/index.html 23.88 19\n",
      "Mesaerion: The Best Science Fiction Stories 1800-1849 http://books.toscrape.com/catalogue/mesaerion-the-best-science-fiction-stories-1800-1849_983/index.html 37.59 19\n",
      "Libertarianism for Beginners http://books.toscrape.com/catalogue/libertarianism-for-beginners_982/index.html 51.33 19\n",
      "It's Only the Himalayas http://books.toscrape.com/catalogue/its-only-the-himalayas_981/index.html 45.17 19\n",
      "A Light in the Attic http://books.toscrape.com/catalogue/in-her-wake_980/index.html 51.77 22\n",
      "Tipping the Velvet http://books.toscrape.com/catalogue/how-music-works_979/index.html 53.74 20\n",
      "Soumission http://books.toscrape.com/catalogue/foolproof-preserving-a-guide-to-small-batch-jams-jellies-pickles-condiments-and-more-a-foolproof-guide-to-making-small-batch-jams-jellies-pickles-condiments-and-more_978/index.html 50.1 20\n",
      "Sharp Objects http://books.toscrape.com/catalogue/chase-me-paris-nights-2_977/index.html 47.82 20\n",
      "Sapiens: A Brief History of Humankind http://books.toscrape.com/catalogue/black-dust_976/index.html 54.23 20\n",
      "The Requiem Red http://books.toscrape.com/catalogue/birdsong-a-story-in-pictures_975/index.html 22.65 19\n",
      "The Dirty Little Secrets of Getting Your Dream Job http://books.toscrape.com/catalogue/americas-cradle-of-quarterbacks-western-pennsylvanias-football-factory-from-johnny-unitas-to-joe-montana_974/index.html 33.34 19\n",
      "The Coming Woman: A Novel Based on the Life of the Infamous Feminist, Victoria Woodhull http://books.toscrape.com/catalogue/aladdin-and-his-wonderful-lamp_973/index.html 17.93 19\n",
      "The Boys in the Boat: Nine Americans and Their Epic Quest for Gold at the 1936 Berlin Olympics http://books.toscrape.com/catalogue/worlds-elsewhere-journeys-around-shakespeares-globe_972/index.html 22.6 19\n",
      "The Black Maria http://books.toscrape.com/catalogue/wall-and-piece_971/index.html 52.15 19\n",
      "Starving Hearts (Triangular Trade Trilogy, #1) http://books.toscrape.com/catalogue/the-four-agreements-a-practical-guide-to-personal-freedom_970/index.html 13.99 19\n",
      "Shakespeare's Sonnets http://books.toscrape.com/catalogue/the-five-love-languages-how-to-express-heartfelt-commitment-to-your-mate_969/index.html 20.66 19\n",
      "Set Me Free http://books.toscrape.com/catalogue/the-elephant-tree_968/index.html 17.46 19\n",
      "Scott Pilgrim's Precious Little Life (Scott Pilgrim #1) http://books.toscrape.com/catalogue/the-bear-and-the-piano_967/index.html 52.29 19\n",
      "Rip it Up and Start Again http://books.toscrape.com/catalogue/sophies-world_966/index.html 35.02 19\n",
      "Our Band Could Be Your Life: Scenes from the American Indie Underground, 1981-1991 http://books.toscrape.com/catalogue/penny-maybe_965/index.html 57.25 19\n",
      "Olio http://books.toscrape.com/catalogue/maude-1883-1993she-grew-up-with-the-country_964/index.html 23.88 19\n",
      "Mesaerion: The Best Science Fiction Stories 1800-1849 http://books.toscrape.com/catalogue/in-a-dark-dark-wood_963/index.html 37.59 19\n",
      "Libertarianism for Beginners http://books.toscrape.com/catalogue/behind-closed-doors_962/index.html 51.33 19\n",
      "It's Only the Himalayas http://books.toscrape.com/catalogue/you-cant-bury-them-all-poems_961/index.html 45.17 19\n",
      "40\n"
     ]
    }
   ],
   "source": [
    "## Print the required output in given format\n",
    "## You are given page links in variable allPages, use this\n",
    "## Column names of your dataframes should be as per given in the variable column_names\n",
    "\n",
    "allPages = ['http://books.toscrape.com/catalogue/page-1.html',\n",
    "            'http://books.toscrape.com/catalogue/page-2.html']\n",
    "\n",
    "base_url='http://books.toscrape.com/catalogue/'\n",
    "\n",
    "column_names = ['Title', 'Link', 'Price', 'Quantity in Stock']\n",
    "\n",
    "import requests\n",
    "from bs4 import BeautifulSoup as bs\n",
    "import re\n",
    "import pandas as pd\n",
    "links=[]\n",
    "Price=[]\n",
    "Quantity_in_Stock=[]\n",
    "Title=[]\n",
    "Book_Details=[]\n",
    "\n",
    "\n",
    "for url in allPages:\n",
    "    res=requests.get(url)\n",
    "    data=bs(res.text,'html.parser')\n",
    "    for books in data.find_all(class_='product_pod'):\n",
    "        link=books.a['href']\n",
    "        links.append(base_url+link)\n",
    "    for item in links:\n",
    "        r=requests.get(item)\n",
    "        data_new=bs(r.text,'html.parser')\n",
    "        Title.append(data_new.h1.string)\n",
    "        price=data_new.find(class_='price_color').string\n",
    "        price=re.search('[\\d.]+',price).group()\n",
    "        Price.append(float(price))\n",
    "        avail=data_new.find(class_='instock availability')\n",
    "        l=list(avail.stripped_strings)\n",
    "        quantity=re.search('\\d+',l[0]).group()\n",
    "        Quantity_in_Stock.append(int(quantity))\n",
    "for i,j,k,l in zip(Title,links,Price,Quantity_in_Stock):\n",
    "    Book_Details.append([i,j,k,l])\n",
    "df=pd.DataFrame(Book_Details,columns=column_names)\n",
    "\n",
    "for i in range(len(df)):\n",
    "    print(df.iloc[i]['Title'],df.iloc[i]['Link'],df.iloc[i]['Price'],df.iloc[i]['Quantity in Stock'])\n",
    "#df=pd.DataFrame(Book_Details,columns=column_names)\n"
   ]
  }
 ],
 "metadata": {
  "kernelspec": {
   "display_name": "Python 3",
   "language": "python",
   "name": "python3"
  },
  "language_info": {
   "codemirror_mode": {
    "name": "ipython",
    "version": 3
   },
   "file_extension": ".py",
   "mimetype": "text/x-python",
   "name": "python",
   "nbconvert_exporter": "python",
   "pygments_lexer": "ipython3",
   "version": "3.8.3"
  }
 },
 "nbformat": 4,
 "nbformat_minor": 2
}
